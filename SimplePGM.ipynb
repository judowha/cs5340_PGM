{
 "cells": [
  {
   "cell_type": "code",
   "execution_count": 17,
   "metadata": {},
   "outputs": [],
   "source": [
    "import pandas as pd\n",
    "import numpy as np\n",
    "from config import *\n",
    "import matplotlib.pyplot as plt\n",
    "from sklearn.model_selection import train_test_split\n",
    "from sklearn.metrics import confusion_matrix\n",
    "\n",
    "\n",
    "from pgmpy.models import BayesianNetwork\n",
    "from pgmpy.estimators import BayesianEstimator\n",
    "from pgmpy.inference import VariableElimination"
   ]
  },
  {
   "cell_type": "code",
   "execution_count": 18,
   "metadata": {},
   "outputs": [
    {
     "name": "stderr",
     "output_type": "stream",
     "text": [
      "/tmp/ipykernel_149229/3651595109.py:8: UserWarning: Boolean Series key will be reindexed to match DataFrame index.\n",
      "  bad_record_ID = eval_credit_record[credit_df[\"STATUS\"].isin(val)].drop([\"MONTHS_BALANCE\"], axis = 1).reset_index(drop=True).ID.unique()\n",
      "/tmp/ipykernel_149229/3651595109.py:16: SettingWithCopyWarning: \n",
      "A value is trying to be set on a copy of a slice from a DataFrame.\n",
      "Try using .loc[row_indexer,col_indexer] = value instead\n",
      "\n",
      "See the caveats in the documentation: https://pandas.pydata.org/pandas-docs/stable/user_guide/indexing.html#returning-a-view-versus-a-copy\n",
      "  feature_df[\"AMT_INCOME_TOTAL\"] = pd.qcut(feature_df[\"AMT_INCOME_TOTAL\"], q=10, labels=False)\n"
     ]
    }
   ],
   "source": [
    "\n",
    "# read csv\n",
    "application_df = pd.read_csv(application_record, index_col=None)\n",
    "credit_df = pd.read_csv(credit_record, index_col=None)\n",
    "# get label for each sample\n",
    "ID_set = set(application_df.ID) & set(credit_df.ID)\n",
    "eval_credit_record = credit_df[credit_df[\"ID\"].isin(ID_set)]\n",
    "val = {\"1\", \"2\", \"3\", \"4\", \"5\"}\n",
    "bad_record_ID = eval_credit_record[credit_df[\"STATUS\"].isin(val)].drop([\"MONTHS_BALANCE\"], axis = 1).reset_index(drop=True).ID.unique()\n",
    "bad_record_ID = list(bad_record_ID)\n",
    "good_record_ID = list(set(eval_credit_record.ID.unique()) - set(bad_record_ID))\n",
    "# 0 for good user, 1 for bad user \n",
    "label_df = pd.DataFrame({\"ID\": good_record_ID + (bad_record_ID), \"Label\": ([0] * len(good_record_ID)) + ([1]*len(bad_record_ID))})\n",
    "label_df = label_df.sort_values([\"ID\"])\n",
    "# split numercial feature into categorical \n",
    "feature_df = application_df[application_df.ID.isin(set(label_df.ID))]\n",
    "feature_df[\"AMT_INCOME_TOTAL\"] = pd.qcut(feature_df[\"AMT_INCOME_TOTAL\"], q=10, labels=False) \n",
    "feature_df = feature_df.sort_values([\"ID\"])\n",
    "# split dataset\n",
    "X_train, X_test, y_train, y_test = train_test_split(feature_df, label_df,test_size=0.2, random_state=42)\n",
    "train_df = pd.merge(X_train, y_train, on=\"ID\")\n",
    "test_df = pd.merge(X_test, y_test, on=\"ID\")\n",
    "test_dict = test_df[[\"AMT_INCOME_TOTAL\", \"NAME_EDUCATION_TYPE\"]].to_dict(\"records\")\n"
   ]
  },
  {
   "cell_type": "code",
   "execution_count": 20,
   "metadata": {},
   "outputs": [],
   "source": [
    "model = BayesianNetwork([('AMT_INCOME_TOTAL', 'Label'), ('NAME_EDUCATION_TYPE', 'Label')])\n",
    "model.fit(train_df, estimator=BayesianEstimator)\n",
    "# Perform inference\n",
    "infer = VariableElimination(model)"
   ]
  },
  {
   "cell_type": "code",
   "execution_count": 22,
   "metadata": {},
   "outputs": [],
   "source": [
    "result = []\n",
    "for i in test_dict:\n",
    "    query_result = infer.query(variables=['Label'], evidence=i)\n",
    "    result.append(np.argmax(query_result.values))\n",
    "confusion_matrix(y_test[\"Label\"], result, labels=[0, 1])"
   ]
  },
  {
   "cell_type": "code",
   "execution_count": 23,
   "metadata": {},
   "outputs": [
    {
     "data": {
      "text/plain": [
       "array([[6432,    0],\n",
       "       [ 860,    0]])"
      ]
     },
     "execution_count": 23,
     "metadata": {},
     "output_type": "execute_result"
    }
   ],
   "source": []
  },
  {
   "cell_type": "code",
   "execution_count": null,
   "metadata": {},
   "outputs": [],
   "source": []
  }
 ],
 "metadata": {
  "kernelspec": {
   "display_name": "cs5340",
   "language": "python",
   "name": "python3"
  },
  "language_info": {
   "codemirror_mode": {
    "name": "ipython",
    "version": 3
   },
   "file_extension": ".py",
   "mimetype": "text/x-python",
   "name": "python",
   "nbconvert_exporter": "python",
   "pygments_lexer": "ipython3",
   "version": "3.12.2"
  }
 },
 "nbformat": 4,
 "nbformat_minor": 2
}
