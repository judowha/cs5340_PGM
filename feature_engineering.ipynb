{
 "cells": [
  {
   "cell_type": "code",
   "execution_count": 49,
   "metadata": {},
   "outputs": [
    {
     "name": "stderr",
     "output_type": "stream",
     "text": [
      "/home/cjq/anaconda3/envs/pgm/lib/python3.11/site-packages/tqdm/auto.py:21: TqdmWarning: IProgress not found. Please update jupyter and ipywidgets. See https://ipywidgets.readthedocs.io/en/stable/user_install.html\n",
      "  from .autonotebook import tqdm as notebook_tqdm\n"
     ]
    }
   ],
   "source": [
    "import pandas as pd\n",
    "import numpy as np\n",
    "from config import *\n",
    "import matplotlib.pyplot as plt\n",
    "from sklearn.model_selection import train_test_split\n",
    "from sklearn.metrics import confusion_matrix\n",
    "from pgmpy.models import BayesianNetwork\n",
    "from pgmpy.estimators import ParameterEstimator, MaximumLikelihoodEstimator\n",
    "\n"
   ]
  },
  {
   "cell_type": "code",
   "execution_count": 37,
   "metadata": {},
   "outputs": [],
   "source": [
    "# read csv\n",
    "df = pd.read_csv(\"./dataset/preprocessed_data.csv\", index_col=None)\n",
    "df = df.drop([\"CODE_GENDER\", \"STATUS\", \"ID\"], axis=1)"
   ]
  },
  {
   "cell_type": "code",
   "execution_count": 38,
   "metadata": {},
   "outputs": [
    {
     "data": {
      "text/plain": [
       "FLAG_OWN_CAR           0\n",
       "FLAG_OWN_REALTY        0\n",
       "CNT_CHILDREN           0\n",
       "AMT_INCOME_TOTAL       0\n",
       "NAME_INCOME_TYPE       0\n",
       "NAME_EDUCATION_TYPE    0\n",
       "NAME_FAMILY_STATUS     0\n",
       "NAME_HOUSING_TYPE      0\n",
       "DAYS_BIRTH             0\n",
       "DAYS_EMPLOYED          0\n",
       "FLAG_MOBIL             0\n",
       "FLAG_WORK_PHONE        0\n",
       "FLAG_PHONE             0\n",
       "FLAG_EMAIL             0\n",
       "OCCUPATION_TYPE        0\n",
       "CNT_FAM_MEMBERS        0\n",
       "MONTHS_BALANCE         0\n",
       "GOOD_REPUTATION        0\n",
       "dtype: int64"
      ]
     },
     "execution_count": 38,
     "metadata": {},
     "output_type": "execute_result"
    }
   ],
   "source": [
    "df.isnull().sum()"
   ]
  },
  {
   "cell_type": "code",
   "execution_count": 39,
   "metadata": {},
   "outputs": [
    {
     "name": "stdout",
     "output_type": "stream",
     "text": [
      "[1 0]\n",
      "[1 0]\n",
      "[ 0  1  3  2  4  5 14 19  7]\n",
      "[9 1 8 2 4 6 7 5 0 3]\n",
      "[5 3 1]\n",
      "[4 2 3 1 5]\n",
      "[3 1 2]\n",
      "[1 5 4 0 3 2]\n",
      "[7 1 2 0 4 3 8 9 5 6]\n",
      "[1 5 2 8 6 4 0 3 7]\n",
      "[1]\n",
      "[1 0]\n",
      "[0 1]\n",
      "[0 1]\n",
      "[17 16 14  0  8 10  4  3  6  1 12  2  9 11 15 18  5 13  7]\n",
      "[ 2.  1.  5.  3.  4.  6. 15.  7. 20.  9.]\n",
      "[  0 -22  -4  -1 -10  -8 -14  -3 -28  -2  -9 -11 -40 -24 -38  -7 -18 -15\n",
      " -32  -6 -43 -20 -19 -17 -12 -33  -5 -51 -47 -21 -34 -29 -35 -49 -31 -42\n",
      " -23 -44 -37 -13 -46 -25 -39 -56 -36 -16 -26 -27 -48 -41 -30 -45 -55 -52\n",
      " -57 -50 -53 -54 -59 -60 -58]\n",
      "[0 1]\n"
     ]
    }
   ],
   "source": [
    "from sklearn.preprocessing import LabelEncoder\n",
    "encoder = LabelEncoder()\n",
    "encoder.fit(df[\"OCCUPATION_TYPE\"])\n",
    "df[\"OCCUPATION_TYPE\"] = encoder.transform(df[\"OCCUPATION_TYPE\"])\n",
    "for colum in df.columns:\n",
    "    print(pd.unique(df[colum]))"
   ]
  },
  {
   "cell_type": "code",
   "execution_count": 40,
   "metadata": {},
   "outputs": [],
   "source": [
    "df_features = df.iloc[:, :-1]\n",
    "df_label = df.iloc[:, -1]"
   ]
  },
  {
   "cell_type": "code",
   "execution_count": 41,
   "metadata": {},
   "outputs": [],
   "source": [
    "from sklearn.feature_selection import mutual_info_classif\n",
    "info = mutual_info_classif(df_features, df_label)"
   ]
  },
  {
   "cell_type": "code",
   "execution_count": 44,
   "metadata": {},
   "outputs": [],
   "source": [
    "column_info = {\"columns\": df_features.columns.tolist(), \"info\": info}"
   ]
  },
  {
   "cell_type": "code",
   "execution_count": 48,
   "metadata": {},
   "outputs": [
    {
     "data": {
      "text/html": [
       "<div>\n",
       "<style scoped>\n",
       "    .dataframe tbody tr th:only-of-type {\n",
       "        vertical-align: middle;\n",
       "    }\n",
       "\n",
       "    .dataframe tbody tr th {\n",
       "        vertical-align: top;\n",
       "    }\n",
       "\n",
       "    .dataframe thead th {\n",
       "        text-align: right;\n",
       "    }\n",
       "</style>\n",
       "<table border=\"1\" class=\"dataframe\">\n",
       "  <thead>\n",
       "    <tr style=\"text-align: right;\">\n",
       "      <th></th>\n",
       "      <th>columns</th>\n",
       "      <th>info</th>\n",
       "    </tr>\n",
       "  </thead>\n",
       "  <tbody>\n",
       "    <tr>\n",
       "      <th>0</th>\n",
       "      <td>NAME_HOUSING_TYPE</td>\n",
       "      <td>0.010109</td>\n",
       "    </tr>\n",
       "    <tr>\n",
       "      <th>1</th>\n",
       "      <td>FLAG_OWN_REALTY</td>\n",
       "      <td>0.007344</td>\n",
       "    </tr>\n",
       "    <tr>\n",
       "      <th>2</th>\n",
       "      <td>NAME_FAMILY_STATUS</td>\n",
       "      <td>0.006217</td>\n",
       "    </tr>\n",
       "    <tr>\n",
       "      <th>3</th>\n",
       "      <td>NAME_EDUCATION_TYPE</td>\n",
       "      <td>0.005436</td>\n",
       "    </tr>\n",
       "    <tr>\n",
       "      <th>4</th>\n",
       "      <td>FLAG_MOBIL</td>\n",
       "      <td>0.005086</td>\n",
       "    </tr>\n",
       "    <tr>\n",
       "      <th>5</th>\n",
       "      <td>OCCUPATION_TYPE</td>\n",
       "      <td>0.004876</td>\n",
       "    </tr>\n",
       "    <tr>\n",
       "      <th>6</th>\n",
       "      <td>NAME_INCOME_TYPE</td>\n",
       "      <td>0.004577</td>\n",
       "    </tr>\n",
       "    <tr>\n",
       "      <th>7</th>\n",
       "      <td>FLAG_WORK_PHONE</td>\n",
       "      <td>0.003745</td>\n",
       "    </tr>\n",
       "    <tr>\n",
       "      <th>8</th>\n",
       "      <td>FLAG_OWN_CAR</td>\n",
       "      <td>0.002383</td>\n",
       "    </tr>\n",
       "    <tr>\n",
       "      <th>9</th>\n",
       "      <td>DAYS_BIRTH</td>\n",
       "      <td>0.002295</td>\n",
       "    </tr>\n",
       "    <tr>\n",
       "      <th>10</th>\n",
       "      <td>CNT_FAM_MEMBERS</td>\n",
       "      <td>0.001326</td>\n",
       "    </tr>\n",
       "    <tr>\n",
       "      <th>11</th>\n",
       "      <td>CNT_CHILDREN</td>\n",
       "      <td>0.000665</td>\n",
       "    </tr>\n",
       "    <tr>\n",
       "      <th>12</th>\n",
       "      <td>FLAG_PHONE</td>\n",
       "      <td>0.000392</td>\n",
       "    </tr>\n",
       "    <tr>\n",
       "      <th>13</th>\n",
       "      <td>AMT_INCOME_TOTAL</td>\n",
       "      <td>0.000262</td>\n",
       "    </tr>\n",
       "    <tr>\n",
       "      <th>14</th>\n",
       "      <td>DAYS_EMPLOYED</td>\n",
       "      <td>0.000000</td>\n",
       "    </tr>\n",
       "    <tr>\n",
       "      <th>15</th>\n",
       "      <td>FLAG_EMAIL</td>\n",
       "      <td>0.000000</td>\n",
       "    </tr>\n",
       "    <tr>\n",
       "      <th>16</th>\n",
       "      <td>MONTHS_BALANCE</td>\n",
       "      <td>0.000000</td>\n",
       "    </tr>\n",
       "  </tbody>\n",
       "</table>\n",
       "</div>"
      ],
      "text/plain": [
       "                columns      info\n",
       "0     NAME_HOUSING_TYPE  0.010109\n",
       "1       FLAG_OWN_REALTY  0.007344\n",
       "2    NAME_FAMILY_STATUS  0.006217\n",
       "3   NAME_EDUCATION_TYPE  0.005436\n",
       "4            FLAG_MOBIL  0.005086\n",
       "5       OCCUPATION_TYPE  0.004876\n",
       "6      NAME_INCOME_TYPE  0.004577\n",
       "7       FLAG_WORK_PHONE  0.003745\n",
       "8          FLAG_OWN_CAR  0.002383\n",
       "9            DAYS_BIRTH  0.002295\n",
       "10      CNT_FAM_MEMBERS  0.001326\n",
       "11         CNT_CHILDREN  0.000665\n",
       "12           FLAG_PHONE  0.000392\n",
       "13     AMT_INCOME_TOTAL  0.000262\n",
       "14        DAYS_EMPLOYED  0.000000\n",
       "15           FLAG_EMAIL  0.000000\n",
       "16       MONTHS_BALANCE  0.000000"
      ]
     },
     "execution_count": 48,
     "metadata": {},
     "output_type": "execute_result"
    }
   ],
   "source": [
    "pd.DataFrame.from_dict(column_info).sort_values(\"info\", ascending=False).reset_index(drop=True)"
   ]
  },
  {
   "cell_type": "code",
   "execution_count": null,
   "metadata": {},
   "outputs": [],
   "source": [
    "from pgmpy.factors.discrete.CPD import TabularCPD\n",
    "\n",
    "def print_full(cpd):\n",
    "    backup = TabularCPD._truncate_strtable\n",
    "    TabularCPD._truncate_strtable = lambda self, x: x\n",
    "    print(cpd)\n",
    "    TabularCPD._truncate_strtable = backup"
   ]
  },
  {
   "cell_type": "code",
   "execution_count": null,
   "metadata": {},
   "outputs": [
    {
     "name": "stdout",
     "output_type": "stream",
     "text": [
      "+------------------+--------------------------+----------------------------+------------------------+---------------------------+\n",
      "| Checking account | Checking account(little) | Checking account(moderate) | Checking account(rich) | Checking account(unknown) |\n",
      "+------------------+--------------------------+----------------------------+------------------------+---------------------------+\n",
      "| Risk(0)          | 0.4959016393442623       | 0.6056910569105691         | 0.7758620689655172     | 0.8721590909090909        |\n",
      "+------------------+--------------------------+----------------------------+------------------------+---------------------------+\n",
      "| Risk(1)          | 0.5040983606557377       | 0.3943089430894309         | 0.22413793103448276    | 0.1278409090909091        |\n",
      "+------------------+--------------------------+----------------------------+------------------------+---------------------------+\n"
     ]
    }
   ],
   "source": [
    "print_full(model.get_cpds('Risk'))"
   ]
  },
  {
   "cell_type": "code",
   "execution_count": null,
   "metadata": {},
   "outputs": [],
   "source": [
    "from itertools import combinations, permutations\n",
    "\n",
    "for combo in permutations(df_features.columns.tolist(), 2):\n",
    "    # Create a Bayesian model with the current combination\n",
    "    print(combo)\n",
    "    model = BayesianNetwork([combo])\n",
    "    \n",
    "    model.fit(data, estimator=MaximumLikelihoodEstimator)\n",
    "\n",
    "    # Print the combination and the learned parameters (CPDs)\n",
    "    print(f\"Combination: {combo}\")\n",
    "    for cpd in model.get_cpds():\n",
    "        print(cpd)\n",
    "    print(\"\\n\" + \"-\" * 50 + \"\\n\") \n"
   ]
  }
 ],
 "metadata": {
  "kernelspec": {
   "display_name": "cs5340",
   "language": "python",
   "name": "python3"
  },
  "language_info": {
   "codemirror_mode": {
    "name": "ipython",
    "version": 3
   },
   "file_extension": ".py",
   "mimetype": "text/x-python",
   "name": "python",
   "nbconvert_exporter": "python",
   "pygments_lexer": "ipython3",
   "version": "3.11.0"
  }
 },
 "nbformat": 4,
 "nbformat_minor": 2
}
